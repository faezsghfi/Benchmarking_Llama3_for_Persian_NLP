{
 "cells": [
  {
   "cell_type": "markdown",
   "metadata": {},
   "source": [
    "DORNA"
   ]
  },
  {
   "cell_type": "code",
   "execution_count": 51,
   "metadata": {},
   "outputs": [],
   "source": [
    "import numpy as np\n",
    "dorna = np.load(f'ENT_clean_DORNA.npy',allow_pickle=True)"
   ]
  },
  {
   "cell_type": "code",
   "execution_count": 45,
   "metadata": {},
   "outputs": [
    {
     "data": {
      "text/plain": [
       "{'sent1': 'داستانهای افسانه ای ارزش خود را دارند ، اما پنهان کاری کثیف است.',\n",
       " 'sent2': 'پنهان کردن چیزها فقط کثیف است ، در حالی که در داستان افسانه ای، جلال وجود دارد',\n",
       " 'label': 'e',\n",
       " 'response': 'Contradiction'}"
      ]
     },
     "execution_count": 45,
     "metadata": {},
     "output_type": "execute_result"
    }
   ],
   "source": [
    "dorna[5]"
   ]
  },
  {
   "cell_type": "code",
   "execution_count": 52,
   "metadata": {},
   "outputs": [],
   "source": [
    "dorna_true_labels = []\n",
    "dorna_predicted_lebels = []\n",
    "for item in dorna:\n",
    "    dorna_true_labels.append(item['label'])\n",
    "    dorna_predicted_lebels.append(item['response'])"
   ]
  },
  {
   "cell_type": "code",
   "execution_count": 59,
   "metadata": {},
   "outputs": [],
   "source": [
    "for index,item in enumerate(dorna_true_labels):\n",
    "\n",
    "    if 'e' in item:\n",
    "        item = 'perspective'\n",
    "    elif 'c' in item:\n",
    "        item = 'Contradiction'\n",
    "    else:\n",
    "        item = 'neutral'\n",
    "\n",
    "    dorna_true_labels[index] = item\n",
    "# np.save(f'SA_clean_LLAMA3.npy', np.array(clean_data, dtype=object))"
   ]
  },
  {
   "cell_type": "code",
   "execution_count": 60,
   "metadata": {},
   "outputs": [
    {
     "data": {
      "text/plain": [
       "(array(['Contradiction', 'neutral', 'perspective'], dtype='<U13'),\n",
       " array([0, 1, 1, ..., 1, 1, 2], dtype=int64))"
      ]
     },
     "execution_count": 60,
     "metadata": {},
     "output_type": "execute_result"
    }
   ],
   "source": [
    "unique_values= np.unique(dorna_true_labels, return_inverse=True)\n",
    "unique_values"
   ]
  },
  {
   "cell_type": "code",
   "execution_count": 55,
   "metadata": {},
   "outputs": [],
   "source": [
    "for index,item in enumerate(dorna_predicted_lebels):\n",
    "\n",
    "    if 'perspective' in item:\n",
    "        item = 'perspective'\n",
    "    elif 'Contradiction' in item:\n",
    "        item = 'Contradiction'\n",
    "    else:\n",
    "        item = 'neutral'\n",
    "\n",
    "    dorna_predicted_lebels[index] = item\n",
    "# np.save(f'ENT_clean_DORNA.npy', np.array(dorna_predicted_lebels, dtype=object))"
   ]
  },
  {
   "cell_type": "code",
   "execution_count": 57,
   "metadata": {},
   "outputs": [
    {
     "data": {
      "text/plain": [
       "(array(['Contradiction', 'neutral', 'perspective'], dtype='<U13'),\n",
       " array([2, 2, 2, ..., 2, 0, 0], dtype=int64))"
      ]
     },
     "execution_count": 57,
     "metadata": {},
     "output_type": "execute_result"
    }
   ],
   "source": [
    "unique_values= np.unique(dorna_predicted_lebels, return_inverse=True)\n",
    "unique_values"
   ]
  },
  {
   "cell_type": "code",
   "execution_count": 61,
   "metadata": {},
   "outputs": [
    {
     "name": "stdout",
     "output_type": "stream",
     "text": [
      "Macro F1-score: 0.4905200682866586\n"
     ]
    }
   ],
   "source": [
    "from sklearn.metrics import f1_score\n",
    "\n",
    "# Calculate Macro F1-score\n",
    "macro_f1 = f1_score(dorna_true_labels, dorna_predicted_lebels, average='macro')\n",
    "\n",
    "print(f'Macro F1-score: {macro_f1}')"
   ]
  },
  {
   "cell_type": "code",
   "execution_count": 62,
   "metadata": {},
   "outputs": [
    {
     "data": {
      "image/png": "[encoded data removed]",
      "text/plain": [
       "<Figure size 800x600 with 1 Axes>"
      ]
     },
     "metadata": {},
     "output_type": "display_data"
    }
   ],
   "source": [
    "import numpy as np\n",
    "import matplotlib.pyplot as plt\n",
    "import seaborn as sns\n",
    "from sklearn.metrics import confusion_matrix, accuracy_score, classification_report\n",
    "\n",
    "def plot_confusion_matrix(true_labels, predicted_labels , filename):\n",
    "    cm = confusion_matrix(true_labels, predicted_labels)\n",
    "    plt.figure(figsize=(8, 6))\n",
    "    sns.heatmap(cm, annot=True, fmt='d', cmap='Blues', cbar=False, \n",
    "                xticklabels=['Contradiction', 'perspective' , 'neutral'], yticklabels=['Contradiction', 'perspective' , 'neutral'])\n",
    "    plt.xlabel('Predicted Labels')\n",
    "    plt.ylabel('True Labels')\n",
    "    plt.title('Confusion Matrix for dorna')\n",
    "    plt.savefig(filename)\n",
    "    plt.show()\n",
    "\n",
    "plot_confusion_matrix(dorna_true_labels, dorna_predicted_lebels , 'Confusion Matrix for dorna')"
   ]
  },
  {
   "cell_type": "markdown",
   "metadata": {},
   "source": [
    "LLAMA3"
   ]
  },
  {
   "cell_type": "code",
   "execution_count": 65,
   "metadata": {},
   "outputs": [],
   "source": [
    "import numpy as np\n",
    "llama = np.load(f'ENT_clean_LLAMA3.npy',allow_pickle=True)\n",
    "\n",
    "llama_true_labels = []\n",
    "llama_predicted_lebels = []\n",
    "for item in llama:\n",
    "    llama_true_labels.append(item['label'])\n",
    "    llama_predicted_lebels.append(item['response'])"
   ]
  },
  {
   "cell_type": "code",
   "execution_count": 66,
   "metadata": {},
   "outputs": [],
   "source": [
    "for index,item in enumerate(llama_true_labels):\n",
    "\n",
    "    if 'e' in item:\n",
    "        item = 'perspective'\n",
    "    elif 'c' in item:\n",
    "        item = 'Contradiction'\n",
    "    else:\n",
    "        item = 'neutral'\n",
    "\n",
    "    llama_true_labels[index] = item"
   ]
  },
  {
   "cell_type": "code",
   "execution_count": 67,
   "metadata": {},
   "outputs": [
    {
     "data": {
      "text/plain": [
       "(array(['Contradiction', 'neutral', 'perspective'], dtype='<U13'),\n",
       " array([0, 1, 1, ..., 1, 0, 1], dtype=int64))"
      ]
     },
     "execution_count": 67,
     "metadata": {},
     "output_type": "execute_result"
    }
   ],
   "source": [
    "unique_values= np.unique(llama_true_labels, return_inverse=True)\n",
    "unique_values"
   ]
  },
  {
   "cell_type": "code",
   "execution_count": 68,
   "metadata": {},
   "outputs": [],
   "source": [
    "for index,item in enumerate(llama_predicted_lebels):\n",
    "\n",
    "    if 'perspective' in item:\n",
    "        item = 'perspective'\n",
    "    elif 'Contradiction' in item:\n",
    "        item = 'Contradiction'\n",
    "    else:\n",
    "        item = 'neutral'\n",
    "\n",
    "    llama_predicted_lebels[index] = item"
   ]
  },
  {
   "cell_type": "code",
   "execution_count": 69,
   "metadata": {},
   "outputs": [
    {
     "data": {
      "text/plain": [
       "(array(['Contradiction', 'neutral', 'perspective'], dtype='<U13'),\n",
       " array([2, 2, 1, ..., 2, 2, 0], dtype=int64))"
      ]
     },
     "execution_count": 69,
     "metadata": {},
     "output_type": "execute_result"
    }
   ],
   "source": [
    "unique_values= np.unique(llama_predicted_lebels, return_inverse=True)\n",
    "unique_values"
   ]
  },
  {
   "cell_type": "code",
   "execution_count": 70,
   "metadata": {},
   "outputs": [
    {
     "name": "stdout",
     "output_type": "stream",
     "text": [
      "Macro F1-score: 0.47926076439342863\n"
     ]
    }
   ],
   "source": [
    "from sklearn.metrics import f1_score\n",
    "\n",
    "# Calculate Macro F1-score\n",
    "macro_f1 = f1_score(llama_true_labels, llama_predicted_lebels, average='macro')\n",
    "\n",
    "print(f'Macro F1-score: {macro_f1}')"
   ]
  },
  {
   "cell_type": "code",
   "execution_count": 71,
   "metadata": {},
   "outputs": [
    {
     "data": {
      "image/png": "[encoded data removed]",
      "text/plain": [
       "<Figure size 800x600 with 1 Axes>"
      ]
     },
     "metadata": {},
     "output_type": "display_data"
    }
   ],
   "source": [
    "plot_confusion_matrix(llama_true_labels, llama_predicted_lebels)"
   ]
  }
 ],
 "metadata": {
  "kernelspec": {
   "display_name": "base",
   "language": "python",
   "name": "python3"
  },
  "language_info": {
   "codemirror_mode": {
    "name": "ipython",
    "version": 3
   },
   "file_extension": ".py",
   "mimetype": "text/x-python",
   "name": "python",
   "nbconvert_exporter": "python",
   "pygments_lexer": "ipython3",
   "version": "3.11.5"
  }
 },
 "nbformat": 4,
 "nbformat_minor": 2
}
