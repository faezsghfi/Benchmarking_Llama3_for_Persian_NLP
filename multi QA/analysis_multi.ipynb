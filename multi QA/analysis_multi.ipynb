{
 "cells": [
  {
   "cell_type": "markdown",
   "metadata": {},
   "source": [
    "DORNA"
   ]
  },
  {
   "cell_type": "code",
   "execution_count": 3,
   "metadata": {},
   "outputs": [],
   "source": [
    "import numpy as np\n",
    "dorna = np.load(f'MULTI_clean_DORNA.npy',allow_pickle=True)"
   ]
  },
  {
   "cell_type": "code",
   "execution_count": null,
   "metadata": {},
   "outputs": [],
   "source": [
    "import numpy as np\n",
    "dorna = np.load(f'MULTI_clean_DORNA.npy',allow_pickle=True)\n",
    "dorna_true_labels = []\n",
    "dorna_predicted_lebels = []\n",
    "for item in dorna:\n",
    "    dorna_true_labels.append(item['ans'])\n",
    "    dorna_predicted_lebels.append(item['response'])"
   ]
  },
  {
   "cell_type": "code",
   "execution_count": 9,
   "metadata": {},
   "outputs": [
    {
     "name": "stdout",
     "output_type": "stream",
     "text": [
      "Macro F1-score: 0.7866210091737748\n"
     ]
    }
   ],
   "source": [
    "from sklearn.metrics import f1_score\n",
    "\n",
    "# Calculate Macro F1-score\n",
    "macro_f1 = f1_score(dorna_true_labels, dorna_predicted_lebels, average='macro')\n",
    "\n",
    "print(f'Macro F1-score: {macro_f1}')"
   ]
  },
  {
   "cell_type": "markdown",
   "metadata": {},
   "source": [
    "LLAMA3"
   ]
  },
  {
   "cell_type": "code",
   "execution_count": null,
   "metadata": {},
   "outputs": [],
   "source": [
    "import numpy as np\n",
    "llama = np.load(f'MULTI_clean_LLAMA3.npy',allow_pickle=True)\n",
    "llama_true_labels = []\n",
    "llama_predicted_lebels = []\n",
    "for item in llama:\n",
    "    llama_true_labels.append(item['ans'])\n",
    "    llama_predicted_lebels.append(item['response'])"
   ]
  },
  {
   "cell_type": "code",
   "execution_count": 12,
   "metadata": {},
   "outputs": [
    {
     "name": "stdout",
     "output_type": "stream",
     "text": [
      "Macro F1-score: 0.5160939849367308\n"
     ]
    }
   ],
   "source": [
    "from sklearn.metrics import f1_score\n",
    "\n",
    "# Calculate Macro F1-score\n",
    "macro_f1 = f1_score(llama_true_labels, llama_predicted_lebels, average='macro')\n",
    "\n",
    "print(f'Macro F1-score: {macro_f1}')"
   ]
  }
 ],
 "metadata": {
  "kernelspec": {
   "display_name": "base",
   "language": "python",
   "name": "python3"
  },
  "language_info": {
   "codemirror_mode": {
    "name": "ipython",
    "version": 3
   },
   "file_extension": ".py",
   "mimetype": "text/x-python",
   "name": "python",
   "nbconvert_exporter": "python",
   "pygments_lexer": "ipython3",
   "version": "3.11.5"
  }
 },
 "nbformat": 4,
 "nbformat_minor": 2
}
