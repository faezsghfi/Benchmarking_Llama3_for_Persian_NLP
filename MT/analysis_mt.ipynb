{
 "cells": [
  {
   "cell_type": "markdown",
   "metadata": {},
   "source": [
    "DORNA"
   ]
  },
  {
   "cell_type": "markdown",
   "metadata": {},
   "source": [
    "to english"
   ]
  },
  {
   "cell_type": "code",
   "execution_count": 20,
   "metadata": {},
   "outputs": [
    {
     "name": "stderr",
     "output_type": "stream",
     "text": [
      "[nltk_data] Downloading package wordnet to\n",
      "[nltk_data]     C:\\Users\\QHS\\AppData\\Roaming\\nltk_data...\n",
      "[nltk_data]   Package wordnet is already up-to-date!\n"
     ]
    },
    {
     "data": {
      "text/plain": [
       "0.25039497742493694"
      ]
     },
     "execution_count": 20,
     "metadata": {},
     "output_type": "execute_result"
    }
   ],
   "source": [
    "import numpy as np\n",
    "import nltk\n",
    "from nltk.translate import meteor_score\n",
    "nltk.download('wordnet')\n",
    "\n",
    "dorna = np.load(f'mt_to_eng_clean_dorna.npy',allow_pickle=True)\n",
    "dorna_reference  = []\n",
    "dorna_machine_generated = []\n",
    "for item in dorna:\n",
    "    dorna_reference.append(item['english'])\n",
    "    dorna_machine_generated.append(item['translate'])\n",
    "\n",
    "\n",
    "scor = []\n",
    "for r,h in zip(dorna_reference,dorna_machine_generated):\n",
    "    reference = str(r).split()\n",
    "    hypothesis = str(h).split()\n",
    "    meteor_score_value = meteor_score.single_meteor_score(reference, hypothesis)\n",
    "    scor.append(meteor_score_value)\n",
    "\n",
    "np.mean(scor)\n"
   ]
  },
  {
   "cell_type": "markdown",
   "metadata": {},
   "source": [
    "to persian"
   ]
  },
  {
   "cell_type": "code",
   "execution_count": 22,
   "metadata": {},
   "outputs": [
    {
     "name": "stderr",
     "output_type": "stream",
     "text": [
      "[nltk_data] Downloading package wordnet to\n",
      "[nltk_data]     C:\\Users\\QHS\\AppData\\Roaming\\nltk_data...\n",
      "[nltk_data]   Package wordnet is already up-to-date!\n"
     ]
    },
    {
     "data": {
      "text/plain": [
       "0.17242739430137569"
      ]
     },
     "execution_count": 22,
     "metadata": {},
     "output_type": "execute_result"
    }
   ],
   "source": [
    "import numpy as np\n",
    "import nltk\n",
    "from nltk.translate import meteor_score\n",
    "nltk.download('wordnet')\n",
    "\n",
    "dorna = np.load(f'mt_to_per_clean_dorna.npy',allow_pickle=True)\n",
    "dorna_reference  = []\n",
    "dorna_machine_generated = []\n",
    "for item in dorna:\n",
    "    dorna_reference.append(item['persian'])\n",
    "    dorna_machine_generated.append(item['translate'])\n",
    "\n",
    "\n",
    "scor = []\n",
    "for r,h in zip(dorna_reference,dorna_machine_generated):\n",
    "    reference = str(r).split()\n",
    "    hypothesis = str(h).split()\n",
    "    meteor_score_value = meteor_score.single_meteor_score(reference, hypothesis)\n",
    "    scor.append(meteor_score_value)\n",
    "\n",
    "np.mean(scor)\n"
   ]
  },
  {
   "cell_type": "markdown",
   "metadata": {},
   "source": [
    "LLAMA3"
   ]
  },
  {
   "cell_type": "markdown",
   "metadata": {},
   "source": [
    "to english"
   ]
  },
  {
   "cell_type": "code",
   "execution_count": 1,
   "metadata": {},
   "outputs": [
    {
     "data": {
      "text/plain": [
       "{'english': '\"in the heat and sands of India, the mud and swamp of Africa, the purlieus of London, wherever in short the climate or the devil tempts men to fall from the true belief which is her own is even now engaged in dashing down shrines, smashing idols, and setting up in their place her own stern countenance.\"',\n",
       " 'persian': '\"در گرما و ماسه هایس هندوستان، گل و باتلاق آفریقا، حواشی لندن، هر جا کهخلاصه اقلیم یا شیطان انسانتن\\u200cها را وسوسه می\\u200cکند تا از صراط راستینی که از آن اوست بلغزند حتی در همین لحظه مشغول پایین کشیدن محراب\\u200cها، خرد کردن بت\\u200cها و بر پا کردن چهرة عبوس خود به جای آن\\u200cهاست.\",',\n",
       " 'response': 'In the sweltering heat and sandy dunes of India, the blooming flowers and swamps of Africa, the outskirts of London, wherever the brief climate or the whispers of humans entice them to deviate from the righteous path that is theirs, even in this very moment, they are busy pulling down minarets, crushing idols, and erecting the countenance of their own gloomy selves in their place.'}"
      ]
     },
     "execution_count": 1,
     "metadata": {},
     "output_type": "execute_result"
    }
   ],
   "source": [
    "import numpy as np\n",
    "\n",
    "llama = np.load(f'MT_per_to_en_llama3_clean.npy',allow_pickle=True)\n",
    "llama[0]"
   ]
  },
  {
   "cell_type": "code",
   "execution_count": 12,
   "metadata": {},
   "outputs": [],
   "source": [
    "llama_reference  = []\n",
    "llama_machine_generated = []\n",
    "for item in llama:\n",
    "    llama_reference.append(item['english'])\n",
    "    llama_machine_generated.append(item['response'])\n"
   ]
  },
  {
   "cell_type": "code",
   "execution_count": 19,
   "metadata": {},
   "outputs": [
    {
     "name": "stderr",
     "output_type": "stream",
     "text": [
      "[nltk_data] Downloading package wordnet to\n",
      "[nltk_data]     C:\\Users\\QHS\\AppData\\Roaming\\nltk_data...\n",
      "[nltk_data]   Package wordnet is already up-to-date!\n"
     ]
    },
    {
     "data": {
      "text/plain": [
       "0.2322791415351309"
      ]
     },
     "execution_count": 19,
     "metadata": {},
     "output_type": "execute_result"
    }
   ],
   "source": [
    "import nltk\n",
    "from nltk.translate import meteor_score\n",
    "nltk.download('wordnet')\n",
    "\n",
    "scor = []\n",
    "for r,h in zip(llama_reference,llama_machine_generated):\n",
    "    reference = str(r).split()\n",
    "    hypothesis = str(h).split()\n",
    "    meteor_score_value = meteor_score.single_meteor_score(reference, hypothesis)\n",
    "    scor.append(meteor_score_value)\n",
    "\n",
    "np.mean(scor)\n"
   ]
  },
  {
   "cell_type": "markdown",
   "metadata": {},
   "source": [
    "to persian"
   ]
  },
  {
   "cell_type": "code",
   "execution_count": 24,
   "metadata": {},
   "outputs": [
    {
     "name": "stderr",
     "output_type": "stream",
     "text": [
      "[nltk_data] Downloading package wordnet to\n",
      "[nltk_data]     C:\\Users\\QHS\\AppData\\Roaming\\nltk_data...\n",
      "[nltk_data]   Package wordnet is already up-to-date!\n"
     ]
    },
    {
     "data": {
      "text/plain": [
       "0.15699788097604536"
      ]
     },
     "execution_count": 24,
     "metadata": {},
     "output_type": "execute_result"
    }
   ],
   "source": [
    "import numpy as np\n",
    "import nltk\n",
    "from nltk.translate import meteor_score\n",
    "nltk.download('wordnet')\n",
    "\n",
    "dorna = np.load(f'MT_en_to_per_llama3_clean.npy',allow_pickle=True)\n",
    "dorna_reference  = []\n",
    "dorna_machine_generated = []\n",
    "for item in dorna:\n",
    "    dorna_reference.append(item['persian'])\n",
    "    dorna_machine_generated.append(item['response'])\n",
    "\n",
    "\n",
    "scor = []\n",
    "for r,h in zip(dorna_reference,dorna_machine_generated):\n",
    "    reference = str(r).split()\n",
    "    hypothesis = str(h).split()\n",
    "    meteor_score_value = meteor_score.single_meteor_score(reference, hypothesis)\n",
    "    scor.append(meteor_score_value)\n",
    "\n",
    "np.mean(scor)\n"
   ]
  }
 ],
 "metadata": {
  "kernelspec": {
   "display_name": "base",
   "language": "python",
   "name": "python3"
  },
  "language_info": {
   "codemirror_mode": {
    "name": "ipython",
    "version": 3
   },
   "file_extension": ".py",
   "mimetype": "text/x-python",
   "name": "python",
   "nbconvert_exporter": "python",
   "pygments_lexer": "ipython3",
   "version": "3.11.5"
  }
 },
 "nbformat": 4,
 "nbformat_minor": 2
}
